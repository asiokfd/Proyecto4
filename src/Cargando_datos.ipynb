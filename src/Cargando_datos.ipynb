{
 "cells": [
  {
   "cell_type": "code",
   "execution_count": 1,
   "metadata": {},
   "outputs": [],
   "source": [
    "from selenium import webdriver\n",
    "from pymongo import MongoClient\n",
    "import requests\n",
    "from unidecode import unidecode\n",
    "from src.scrapeoysubida import porparrafos\n",
    "from src.scrapeoysubida import preparando_parrafos\n",
    "from src.scrapeoysubida import query_post_pa_discursos"
   ]
  },
  {
   "cell_type": "code",
   "execution_count": 11,
   "metadata": {},
   "outputs": [],
   "source": [
    "urlm = \"http://localhost:5000/ntexto\""
   ]
  },
  {
   "cell_type": "code",
   "execution_count": 2,
   "metadata": {},
   "outputs": [],
   "source": [
    "driver = webdriver.Chrome()\n",
    "driver.implicitly_wait(3)"
   ]
  },
  {
   "cell_type": "markdown",
   "metadata": {},
   "source": [
    "#### Primero escrapeamos los datos necesarios, en este caso utilizamos una función que nos devolverá una lista con los párrafos de cada discurso, como utilizamos la misma página para todos los discursos, comparten xpath del body del discurso, lo que nos facilita el trabajo."
   ]
  },
  {
   "cell_type": "code",
   "execution_count": 14,
   "metadata": {},
   "outputs": [],
   "source": [
    "xpath=\"/html/body/div[1]/div/div/div/div/main/div/div[5]/div/div\""
   ]
  },
  {
   "cell_type": "code",
   "execution_count": 15,
   "metadata": {},
   "outputs": [],
   "source": [
    "suarez= porparrafos (\"https://www.lamoncloa.gob.es/presidente/presidentes/investiduras/Paginas/30031979_InvestSuarez.aspx\", xpath)\n",
    "sotelo= porparrafos (\"https://www.lamoncloa.gob.es/presidente/presidentes/investiduras/Paginas/18021981_InvestCalvoSotelo.aspx\", xpath)\n",
    "gonzalez1= porparrafos (\"https://www.lamoncloa.gob.es/presidente/presidentes/investiduras/Paginas/30111982_InvestGonzalez.aspx\", xpath)\n",
    "gonzalez2= porparrafos (\"https://www.lamoncloa.gob.es/presidente/presidentes/investiduras/Paginas/22071986_InvestGonzalez.aspx\", xpath)\n",
    "gonzalez3= porparrafos (\"https://www.lamoncloa.gob.es/presidente/presidentes/investiduras/Paginas/04121989_InvestGonzalez.aspx\", xpath)\n",
    "gonzalez4=porparrafos (\"https://www.lamoncloa.gob.es/presidente/presidentes/investiduras/Paginas/08071993_InvestGonzalez.aspx\", xpath)\n",
    "aznar1= porparrafos (\"https://www.lamoncloa.gob.es/presidente/presidentes/investiduras/Paginas/03051996_InvestAznar.aspx\", xpath)\n",
    "aznar2= porparrafos (\"https://www.lamoncloa.gob.es/presidente/presidentes/investiduras/Paginas/25042000_InvestAznar.aspx\", xpath)\n",
    "zapatero2= porparrafos (\"https://www.lamoncloa.gob.es/presidente/presidentes/investiduras/Paginas/08042008_InvestZapatero.aspx\", xpath)\n",
    "zapatero1= porparrafos (\"https://www.lamoncloa.gob.es/presidente/presidentes/investiduras/Paginas/15042004_InvestZapatero.aspx\", xpath)\n",
    "rajoy1= porparrafos (\"https://www.lamoncloa.gob.es/presidente/presidentes/investiduras/Paginas/19122011_InvestRajoy.aspx\", xpath)\n",
    "rajoy2= porparrafos (\"https://www.lamoncloa.gob.es/presidente/presidentes/investiduras/Paginas/30082016_InvestRajoy.aspx\", xpath)\n",
    "rajoy3= porparrafos (\"https://www.lamoncloa.gob.es/presidente/presidentes/investiduras/Paginas/26102016_InvestRajoy.aspx\", xpath)\n",
    "sanchez= porparrafos (\"https://www.lamoncloa.gob.es/presidente/presidentes/investiduras/Paginas/04012020_InvestSanchez.aspx\", xpath)"
   ]
  },
  {
   "cell_type": "markdown",
   "metadata": {},
   "source": [
    "#### Una vez que los tenemos, los preparamos para introducirlos en nuestra api mediante una función que creará una lista de diccionarios con los parámetros que queremos."
   ]
  },
  {
   "cell_type": "code",
   "execution_count": 16,
   "metadata": {},
   "outputs": [],
   "source": [
    "listasuarez=preparando_parrafos (suarez, \"Adolfo Suarez Yllana\", \"UCD\", \"Investidura\",\"\", \"1979\")\n",
    "listasotelo=preparando_parrafos (sotelo, \"Leopoldo Calvo Sotelo\", \"UCD\", \"Investidura\",\"\", \"1981\")\n",
    "listagonzalez1=preparando_parrafos (gonzalez1, \"Felipe Gonzalez Marquez\", \"PSOE\", \"Investidura\",\"\", \"1982\")\n",
    "listagonzalez2=preparando_parrafos (gonzalez2, \"Felipe Gonzalez Marquez\", \"PSOE\", \"Investidura\",\"\", \"1986\")\n",
    "listagonzalez3=preparando_parrafos (gonzalez3, \"Felipe Gonzalez Marquez\", \"PSOE\", \"Investidura\",\"\", \"1989\")\n",
    "listagonzalez4=preparando_parrafos (gonzalez4, \"Felipe Gonzalez Marquez\", \"PSOE\", \"Investidura\",\"\", \"1993\")\n",
    "listaaznar1=preparando_parrafos (aznar1, \"Jose Maria Aznar Lopez\", \"PP\", \"Investidura\",\"\", \"1996\")\n",
    "listaaznar2=preparando_parrafos (aznar2, \"Jose Maria Aznar Lopez\", \"PP\", \"Investidura\",\"\", \"2000\")\n",
    "listazapatero1=preparando_parrafos (zapatero1, \"Jose Luis Rodriguez Zapatero\", \"PSOE\", \"Investidura\",\"\", \"2004\")\n",
    "listazapatero2=preparando_parrafos (zapatero2, \"Jose Luis Rodriguez Zapatero\", \"PSOE\", \"Investidura\",\"\", \"2008\")\n",
    "listarajoy1=preparando_parrafos (rajoy1, \"Mariano Rajoy Brey\", \"PP\", \"Investidura\",\"\", \"2011\")\n",
    "listarajoy2=preparando_parrafos (rajoy2, \"Mariano Rajoy Brey\", \"PP\", \"Investidura\",\"\", \"2015\")\n",
    "listarajoy3=preparando_parrafos (rajoy3, \"Mariano Rajoy Brey\", \"PP\", \"Investidura\",\"\", \"2016\")\n",
    "listasanchez= preparando_parrafos (sanchez, \"Pedro Sanchez Perez-Castejon\", \"PSOE\", \"Investidura\", \"\", \"2020\")"
   ]
  },
  {
   "cell_type": "markdown",
   "metadata": {},
   "source": [
    "#### Y después los introducimos en nuestra api, también con una función que sencillamente va haciendo querys para cada elemento en la lista de diccionarios hecha previamente. Aquí tengo que decir que he sido incapaz de crear un endpoint para insert_many, soy consciente de que es mucho más rápido, pero en todos los intentos que he hecho no introducía los datos como yo quería."
   ]
  },
  {
   "cell_type": "code",
   "execution_count": 17,
   "metadata": {},
   "outputs": [],
   "source": [
    "query_post_pa_discursos (listasuarez, urlm)\n",
    "query_post_pa_discursos (listasotelo, urlm)\n",
    "query_post_pa_discursos (listagonzalez1, urlm)\n",
    "query_post_pa_discursos (listagonzalez2, urlm)\n",
    "query_post_pa_discursos (listagonzalez3, urlm)\n",
    "query_post_pa_discursos (listagonzalez4, urlm)\n",
    "query_post_pa_discursos (listaaznar1, urlm)\n",
    "query_post_pa_discursos (listaaznar2, urlm)\n",
    "query_post_pa_discursos (listazapatero1, urlm)\n",
    "query_post_pa_discursos (listazapatero2, urlm)\n",
    "query_post_pa_discursos (listarajoy1, urlm)\n",
    "query_post_pa_discursos (listarajoy2, urlm)\n",
    "query_post_pa_discursos (listarajoy3, urlm)\n",
    "query_post_pa_discursos (listasanchez, urlm)"
   ]
  },
  {
   "cell_type": "markdown",
   "metadata": {},
   "source": [
    "#### Por añadir variedad, vamos a buscar algun [discurso relevante](https://www.elmundo.es/enredados/2015/04/15/552bd80f268e3e4b6d8b456d.html)  y ver si lo podemos añadir también."
   ]
  },
  {
   "cell_type": "code",
   "execution_count": 4,
   "metadata": {},
   "outputs": [],
   "source": [
    "url= \"https://www.elmundo.es/especiales/2013/internacional/martin-luther-king/texto-integro.html\"\n",
    "url2= \"http://gestar.org.ar/nota/ver/id/1365\"\n",
    "url3= \"https://www.ersilias.com/discurso-yes-we-can-del-senador-barack-obama-tras-su-victoria-en-las-primarias-presidenciales-democratas-de-carolina-del-sur-el-dia-26-de-enero-de-2008/\"\n",
    "url4= \"https://es.wikisource.org/wiki/%C3%9Altima_alocuci%C3%B3n_de_Salvador_Allende\"\n",
    "url5= \"https://mercadeoglobal.com/blog/textos-del-celebre-discurso-de-steve-jobs-en-la-universidad-de-stanford/\""
   ]
  },
  {
   "cell_type": "code",
   "execution_count": 5,
   "metadata": {},
   "outputs": [],
   "source": [
    "xpathluther=\"/html/body/div[3]/div/div[2]/article/div\"\n",
    "xpathevita=\"/html/body/div[2]/div/div/div/div[1]\"\n",
    "xpathobama=\"/html/body/div[1]/div/div/div/div/div/article/div[2]/div/div/div/div[1]/div[1]/div/div/div\"\n",
    "xpathallende= \"/html/body/div[3]/div[3]/div[5]/div[1]/div[4]\"\n",
    "xpathjobs= \"/html/body/div[1]/div/div/div/div/div[1]/article/div[2]\""
   ]
  },
  {
   "cell_type": "code",
   "execution_count": 6,
   "metadata": {},
   "outputs": [],
   "source": [
    "luther= porparrafos (url, xpathluther)\n",
    "evita= porparrafos (url2, xpathevita)\n",
    "obama= porparrafos (url3, xpathobama)\n",
    "allende= porparrafos (url4, xpathallende)\n",
    "jobs= porparrafos (url5, xpathjobs)"
   ]
  },
  {
   "cell_type": "markdown",
   "metadata": {},
   "source": [
    "#### La única diferencia con el scrapeo de los discursos de investidura es que en este caso, en algunos bodys el discurso venía con introducciones. Sencillamente utilizamos un localizador para omitirlos."
   ]
  },
  {
   "cell_type": "code",
   "execution_count": 9,
   "metadata": {},
   "outputs": [],
   "source": [
    "listaluther= preparando_parrafos (luther, \"Martin Luther King\", \"\", \"Protesta\", [\"racismo\", \"black power\", \"Derechos civiles\"], \"1963\")\n",
    "listaevita= preparando_parrafos (evita[6:], \"Eva Peron\", \"Partido Justicialista\", \"Despedida\", \"peronismo\", \"1952\")\n",
    "listaobama= preparando_parrafos (obama [:-1], \"Barack Obama\", \"Partido Democrata\", \"Investidura\", [\"Drechos civiles\", \"Yes we can\"], \"2008\")\n",
    "listaallende=preparando_parrafos (allende, \"Salvador Allende\", \"Partido Socialista\", \"Despedida\", [\"11 de septiembre\"], \"1973\")\n",
    "listajobs= preparando_parrafos (jobs[5:], \"Steve Jobs\", \"\", \"Universitario\", [\"Motivación\"], \"2005\")"
   ]
  },
  {
   "cell_type": "code",
   "execution_count": 13,
   "metadata": {},
   "outputs": [],
   "source": [
    "query_post_pa_discursos (listaluther, urlm)\n",
    "query_post_pa_discursos (listaevita, urlm)\n",
    "query_post_pa_discursos (listaobama, urlm)\n",
    "query_post_pa_discursos (listaallende, urlm)\n",
    "query_post_pa_discursos (listajobs, urlm)"
   ]
  },
  {
   "cell_type": "markdown",
   "metadata": {},
   "source": [
    "#### Y con esto ya tendríamos creada una colección con unos cuantos datos para poder analizar"
   ]
  }
 ],
 "metadata": {
  "kernelspec": {
   "display_name": "Python 3",
   "language": "python",
   "name": "python3"
  },
  "language_info": {
   "codemirror_mode": {
    "name": "ipython",
    "version": 3
   },
   "file_extension": ".py",
   "mimetype": "text/x-python",
   "name": "python",
   "nbconvert_exporter": "python",
   "pygments_lexer": "ipython3",
   "version": "3.8.5"
  }
 },
 "nbformat": 4,
 "nbformat_minor": 4
}
